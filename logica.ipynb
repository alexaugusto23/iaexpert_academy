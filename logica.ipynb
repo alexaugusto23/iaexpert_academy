{
 "cells": [
  {
   "cell_type": "markdown",
   "metadata": {},
   "source": [
    "<h4>Exercícios de Progamação</h4>"
   ]
  },
  {
   "cell_type": "markdown",
   "metadata": {},
   "source": [
    "LÓGICA:\n",
    "\n",
    "- Arte de pensar\n",
    "- Faz análises das formas do pensamento\n",
    "- Determina quais operações são válidas e quais não são\n",
    "- Ensina a usar corretamente as leis do pensamento\n",
    "- Ajuda na correção do raciocínio e a colocar ordem no\n",
    "pensamento\n",
    "- Realiza dedução\n",
    "- Quando pensamos, escrevemos ou falamos usamos lógica,\n",
    "pois necessitamos colocar “ordem no pensamento”"
   ]
  },
  {
   "cell_type": "markdown",
   "metadata": {},
   "source": [
    "ALGORITMOS:\n",
    "\n",
    "- É uma sequência de passos que visam atingir um objetivo bem\n",
    "definido\n",
    "- Representa o raciocínio da lógica de programação"
   ]
  },
  {
   "cell_type": "markdown",
   "metadata": {},
   "source": [
    "<h4>Exercícios 01</h4>"
   ]
  },
  {
   "cell_type": "markdown",
   "metadata": {},
   "source": [
    "Crie um algoritmo para fazer a troca de pneu de um carro. Considere as\n",
    "seguintes situações:\n",
    "\n",
    "- Se o macaco estiver estragado\n",
    "- Se o pneu reserva estiver vazio\n",
    "- Se dois pneus do carro estiverem furados"
   ]
  },
  {
   "cell_type": "code",
   "execution_count": 30,
   "metadata": {},
   "outputs": [
    {
     "name": "stdout",
     "output_type": "stream",
     "text": [
      "entrou nesse loo if\n",
      "\n",
      "02 Pneus furados\n",
      "Macaco danificado\n",
      "Ligar para a emergência\n"
     ]
    }
   ],
   "source": [
    "flag_status_pneu = True\n",
    "flag_status_macaco = True\n",
    "checa_macaco = None\n",
    "\n",
    "def troca_pneu():\n",
    "    print(f'\\n---- Procedimento para Trocar o Pneu ----')\n",
    "    print(f'pneu {pneu:02d}\\n')\n",
    "    print('\\npegar o Macaco')\n",
    "    print('Macaco em boas condições trocar o pneu furado')\n",
    "    print('Remover o pneu do step')\n",
    "    print('colocar o pneu no chão')\n",
    "    print('posicionar o macaco')\n",
    "    print('elevar o macaco')\n",
    "    print('pegar chave de boca')\n",
    "    print('remover os parafuchos')\n",
    "    print('remover o pneu furado')\n",
    "    print('colocar o step')\n",
    "    print('aperta os parafusos')\n",
    "    print('abaixar o macaco')\n",
    "    print('guardar o step')\n",
    "\n",
    "\n",
    "while flag_status_pneu:\n",
    "    checa_pneus_furado = str(input('Pneu Furado sim ou não?: ')).lower()\n",
    "    if checa_pneus_furado  == 'sim':\n",
    "        try:\n",
    "            qtd_pneus_furado = int(input('Informar Quantidade: '))\n",
    "        except:\n",
    "            print('O valor digitado não é um inteiro válido, favo digitar um número válido')\n",
    "            qtd_pneus_furado = int(input('Informar Quantidade: '))\n",
    "        print('entrou nesse loo if')\n",
    "        if qtd_pneus_furado <= 1:\n",
    "            print(f'\\n{qtd_pneus_furado:02d} Pneu furado')\n",
    "        else:\n",
    "            print(f'\\n{qtd_pneus_furado:02d} Pneus furados')\n",
    "\n",
    "        while flag_status_macaco:\n",
    "            checa_macaco = str(input('Macaco esta bom, sim ou não?: ')).lower()\n",
    "            if checa_macaco == 'sim':\n",
    "                for pneu in range(1, qtd_pneus_furado+1):\n",
    "                    troca_pneu()\n",
    "                flag_status_macaco = False\n",
    "                flag_status_pneu = False\n",
    "            elif checa_macaco == 'não':\n",
    "                print('Macaco danificado')\n",
    "                print('Ligar para a emergência') \n",
    "                flag_status_macaco = False\n",
    "                flag_status_pneu = False  \n",
    "            else:\n",
    "                print('Resposta não aceita o valor inserido deve ser sim ou não:')\n",
    "                print('entrou nesse loo else')\n",
    "        \n",
    "    elif checa_pneus_furado  == 'não':\n",
    "        print('entrou nesse loo if')\n",
    "        print('Pneu em boas condições continuar dirigindo')\n",
    "        flag_status_pneu = False\n",
    "    else:        \n",
    "        print('Resposta não aceita o valor inserido deve ser sim ou não:')\n",
    "        print('entrou nesse loo else')"
   ]
  },
  {
   "cell_type": "markdown",
   "metadata": {},
   "source": [
    "<h4>Exercícios 02</h4>"
   ]
  },
  {
   "cell_type": "code",
   "execution_count": null,
   "metadata": {},
   "outputs": [],
   "source": []
  }
 ],
 "metadata": {
  "kernelspec": {
   "display_name": "Python 3",
   "language": "python",
   "name": "python3"
  },
  "language_info": {
   "codemirror_mode": {
    "name": "ipython",
    "version": 3
   },
   "file_extension": ".py",
   "mimetype": "text/x-python",
   "name": "python",
   "nbconvert_exporter": "python",
   "pygments_lexer": "ipython3",
   "version": "3.9.6"
  }
 },
 "nbformat": 4,
 "nbformat_minor": 2
}
