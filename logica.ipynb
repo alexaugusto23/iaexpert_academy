{
 "cells": [
  {
   "cell_type": "markdown",
   "metadata": {},
   "source": [
    "<h4>Exercícios de Progamação</h4>"
   ]
  },
  {
   "cell_type": "markdown",
   "metadata": {},
   "source": [
    "https://www.markdownguide.org/basic-syntax/"
   ]
  },
  {
   "cell_type": "markdown",
   "metadata": {},
   "source": [
    "LÓGICA:\n",
    "\n",
    "- Arte de pensar\n",
    "- Faz análises das formas do pensamento\n",
    "- Determina quais operações são válidas e quais não são\n",
    "- Ensina a usar corretamente as leis do pensamento\n",
    "- Ajuda na correção do raciocínio e a colocar ordem no\n",
    "pensamento\n",
    "- Realiza dedução\n",
    "- Quando pensamos, escrevemos ou falamos usamos lógica,\n",
    "pois necessitamos colocar “ordem no pensamento”"
   ]
  },
  {
   "cell_type": "markdown",
   "metadata": {},
   "source": [
    "ALGORITMOS:\n",
    "\n",
    "- É uma sequência de passos que visam atingir um objetivo bem\n",
    "definido\n",
    "- Representa o raciocínio da lógica de programação"
   ]
  },
  {
   "cell_type": "markdown",
   "metadata": {},
   "source": [
    "<h4>Exercícios 01</h4>"
   ]
  },
  {
   "cell_type": "markdown",
   "metadata": {},
   "source": [
    "Crie um algoritmo para fazer a troca de pneu de um carro. Considere as\n",
    "seguintes situações:\n",
    "\n",
    "- Se o macaco estiver estragado\n",
    "- Se o pneu reserva estiver vazio\n",
    "- Se dois pneus do carro estiverem furados"
   ]
  },
  {
   "cell_type": "code",
   "execution_count": 30,
   "metadata": {},
   "outputs": [
    {
     "name": "stdout",
     "output_type": "stream",
     "text": [
      "entrou nesse loo if\n",
      "\n",
      "02 Pneus furados\n",
      "Macaco danificado\n",
      "Ligar para a emergência\n"
     ]
    }
   ],
   "source": [
    "flag_status_pneu = True\n",
    "flag_status_macaco = True\n",
    "checa_macaco = None\n",
    "\n",
    "def troca_pneu():\n",
    "    print(f'\\n---- Procedimento para Trocar o Pneu ----')\n",
    "    print(f'pneu {pneu:02d}\\n')\n",
    "    print('\\npegar o Macaco')\n",
    "    print('Macaco em boas condições trocar o pneu furado')\n",
    "    print('Remover o pneu do step')\n",
    "    print('colocar o pneu no chão')\n",
    "    print('posicionar o macaco')\n",
    "    print('elevar o macaco')\n",
    "    print('pegar chave de boca')\n",
    "    print('remover os parafuchos')\n",
    "    print('remover o pneu furado')\n",
    "    print('colocar o step')\n",
    "    print('aperta os parafusos')\n",
    "    print('abaixar o macaco')\n",
    "    print('guardar o step')\n",
    "\n",
    "\n",
    "while flag_status_pneu:\n",
    "    checa_pneus_furado = str(input('Pneu Furado sim ou não?: ')).lower()\n",
    "    if checa_pneus_furado  == 'sim':\n",
    "        try:\n",
    "            qtd_pneus_furado = int(input('Informar Quantidade: '))\n",
    "        except:\n",
    "            print('O valor digitado não é um inteiro válido, favo digitar um número válido')\n",
    "            qtd_pneus_furado = int(input('Informar Quantidade: '))\n",
    "        print('entrou nesse loo if')\n",
    "        if qtd_pneus_furado <= 1:\n",
    "            print(f'\\n{qtd_pneus_furado:02d} Pneu furado')\n",
    "        else:\n",
    "            print(f'\\n{qtd_pneus_furado:02d} Pneus furados')\n",
    "\n",
    "        while flag_status_macaco:\n",
    "            checa_macaco = str(input('Macaco esta bom, sim ou não?: ')).lower()\n",
    "            if checa_macaco == 'sim':\n",
    "                for pneu in range(1, qtd_pneus_furado+1):\n",
    "                    troca_pneu()\n",
    "                flag_status_macaco = False\n",
    "                flag_status_pneu = False\n",
    "            elif checa_macaco == 'não':\n",
    "                print('Macaco danificado')\n",
    "                print('Ligar para a emergência') \n",
    "                flag_status_macaco = False\n",
    "                flag_status_pneu = False  \n",
    "            else:\n",
    "                print('Resposta não aceita o valor inserido deve ser sim ou não:')\n",
    "                print('entrou nesse loo else')\n",
    "        \n",
    "    elif checa_pneus_furado  == 'não':\n",
    "        print('entrou nesse loo if')\n",
    "        print('Pneu em boas condições continuar dirigindo')\n",
    "        flag_status_pneu = False\n",
    "    else:        \n",
    "        print('Resposta não aceita o valor inserido deve ser sim ou não:')\n",
    "        print('entrou nesse loo else')"
   ]
  },
  {
   "cell_type": "markdown",
   "metadata": {},
   "source": [
    "<h4>Exercícios 02</h4>"
   ]
  },
  {
   "cell_type": "code",
   "execution_count": 101,
   "metadata": {},
   "outputs": [
    {
     "name": "stdout",
     "output_type": "stream",
     "text": [
      "{1: [{'quantidade': 1, 'valor': 1500.0}], 2: [{'quantidade': 0, 'valor': 0}], 3: [{'quantidade': 5, 'valor': 600}], 4: [{'quantidade': 30, 'valor': 2000}], 5: [{'quantidade': 0, 'valor': 0}], 6: [{'quantidade': 50, 'valor': 700}], 7: [{'quantidade': 0, 'valor': 0}], 8: [{'quantidade': 1, 'valor': 3000}], 9: [{'quantidade': 0, 'valor': 0}], 10: [{'quantidade': 12, 'valor': 650}]}\n",
      "\n",
      "1\n",
      "\n",
      "1\n",
      "Tem televisão em estoque\n",
      "sem não registrado\n",
      "2\n",
      "Não tem televisão em estoque\n",
      "3\n",
      "Tem televisão em estoque\n",
      "Valor adicionado 600\n",
      "carrinho de compra atual loja 3 e valor R$ 600\n",
      "4\n",
      "Tem televisão em estoque\n",
      "sem não registrado\n",
      "5\n",
      "Não tem televisão em estoque\n",
      "6\n",
      "Tem televisão em estoque\n",
      "sem não registrado\n",
      "7\n",
      "Não tem televisão em estoque\n",
      "8\n",
      "Tem televisão em estoque\n",
      "sem não registrado\n",
      "9\n",
      "Não tem televisão em estoque\n",
      "10\n",
      "Tem televisão em estoque\n",
      "sem não registrado\n",
      "\n",
      "\n",
      "------------------------------\n",
      "\n",
      "Valor adicionado 600\n",
      "carrinho de compra atual loja 3 e valor R$ 600\n",
      "Saldo Investido 400.00\n",
      "Compra da Televisão realizada no valor de R$600.00 \n"
     ]
    }
   ],
   "source": [
    "lojas = [1,2,3,4,5,6,7,8,9,10]\n",
    "loja = 1\n",
    "carteira = 1000  # orçamento\n",
    "saldo_investido = 0\n",
    "carteira_investimento = 0\n",
    "estoque = { 1: [{'quantidade':1, 'valor':1500.00}],\n",
    "            2: [{'quantidade':0, 'valor':0}],\n",
    "            3: [{'quantidade':5, 'valor':600}],\n",
    "            4: [{'quantidade':30, 'valor':2000}],\n",
    "            5: [{'quantidade':0, 'valor':0}],\n",
    "            6: [{'quantidade':50, 'valor':700}],\n",
    "            7: [{'quantidade':0, 'valor':0}],\n",
    "            8: [{'quantidade':1, 'valor':3000}],\n",
    "            9: [{'quantidade':0, 'valor':0}],\n",
    "            10: [{'quantidade':12, 'valor':650}]\n",
    "           }\n",
    "carrinho_compra = estoque[1][0]['valor'] # preço\n",
    "\n",
    "print(estoque)\n",
    "print(f\"\\n{estoque[1][0]['quantidade']}\\n\")\n",
    "\n",
    "while loja <= len(lojas):\n",
    "    print(loja) \n",
    "   \n",
    "    if estoque[loja][0]['quantidade'] >= 1 and estoque[loja][0]['valor'] > 0: # Perguntar se a loja possui a televisão\n",
    "        print('Tem televisão em estoque') \n",
    "    \n",
    "        if estoque[loja][0]['valor'] < carrinho_compra:\n",
    "            carrinho_compra = estoque[loja][0]['valor']\n",
    "            loja_final = loja\n",
    "            print(f'Valor adicionado {carrinho_compra}')\n",
    "            print(f'carrinho de compra atual loja {loja} e valor R$ {estoque[loja][0][\"valor\"]}')\n",
    "\n",
    "        else:\n",
    "            print('sem não registrado')\n",
    "    else:\n",
    "        print('Não tem televisão em estoque')\n",
    "\n",
    "    loja += 1\n",
    "\n",
    "print('\\n')\n",
    "print('-'*30)\n",
    "print(f'\\nValor adicionado {carrinho_compra}') \n",
    "print(f'carrinho de compra atual loja {loja_final} e valor R$ {estoque[loja_final][0][\"valor\"]}')\n",
    "\n",
    "if carrinho_compra  <= carteira:\n",
    "    saldo_investido = carteira - carrinho_compra\n",
    "    print(f\"Saldo Investido {saldo_investido:.2f}\") # Python strings format syntax\n",
    "    print(f\"Compra da Televisão realizada no valor de R${carrinho_compra:.2f} \")\n",
    "else:\n",
    "    saldo_investido = carteira - carrinho_compra\n",
    "    print(f\"Saldo Investido R${saldo_investido:.2f}\")\n",
    "    print(f\"Compra não realizada\")"
   ]
  },
  {
   "cell_type": "markdown",
   "metadata": {},
   "source": [
    "<h4>Exercícios 03</h4>"
   ]
  },
  {
   "cell_type": "markdown",
   "metadata": {},
   "source": [
    "- Calcular a média de todos os alunos que\n",
    "cursaram a disciplina de Programação I, a\n",
    "partir da leitura das notas M1, M2 e M3;\n",
    "passando por um cálculo da média aritmética.\n",
    "Após a média calculada, devemos anunciar se\n",
    "o aluno foi aprovado ou reprovado por nota.\n",
    "Somente estão aprovados alunos com média\n",
    "maior ou igual a 6.0"
   ]
  },
  {
   "cell_type": "markdown",
   "metadata": {},
   "source": [
    "Enquanto existirem alunos na disciplina Programação\n",
    "I, \n",
    "\n",
    "faça\n",
    " - Ler a nota M1\n",
    " - Ler a nota M2\n",
    " - Ler a nota M3\n",
    " - Somar as notas M1, M2 e M3\n",
    " - Calcular a média, dividindo o somatório das notas por 3\n",
    " - Se a média for maior ou igual a 6.0, então\n",
    " - O aluno está aprovado\n",
    " - Senão, o aluno está reprovado"
   ]
  },
  {
   "cell_type": "code",
   "execution_count": 115,
   "metadata": {},
   "outputs": [
    {
     "name": "stdout",
     "output_type": "stream",
     "text": [
      "5.0\n",
      "6.0\n",
      "7.0\n",
      "18.0\n",
      "6.0\n",
      "Aluno aprovado\n"
     ]
    }
   ],
   "source": [
    "notas = [5.0, 6.0, 7.0]\n",
    "ind = 0\n",
    "soma_nota = 0\n",
    "\n",
    "while ind < len(notas):\n",
    "    print(f\"{notas[ind]}\")\n",
    "    soma_nota += notas[ind]\n",
    "    ind += 1\n",
    "\n",
    "print(soma_nota)\n",
    "media = soma_nota / len(notas)\n",
    "print(media)\n",
    "\n",
    "if media >= 6:\n",
    "    print(\"Aluno aprovado\")\n",
    "else:\n",
    "    print(\"Aluno reprovado\")\n"
   ]
  },
  {
   "cell_type": "markdown",
   "metadata": {},
   "source": [
    "<h4>Exercícios 04</h4>"
   ]
  },
  {
   "cell_type": "markdown",
   "metadata": {},
   "source": [
    "- Problema: calcular a área de um triângulo\n",
    "- Sabemos que a fórmula para o cálculo da área de um\n",
    "triângulo é (BASE * ALTURA) / 2\n",
    "- Base e altura são dados que irão variar no decorrer\n",
    "do “tempo de execução” do algoritmo\n",
    "- O número 2 da fórmula é um dado constante, pois\n",
    "sempre terá o mesmo valor"
   ]
  },
  {
   "cell_type": "code",
   "execution_count": 116,
   "metadata": {},
   "outputs": [
    {
     "name": "stdout",
     "output_type": "stream",
     "text": [
      "Área de um triângulo é 14.0\n"
     ]
    }
   ],
   "source": [
    "base = float(input('Digite o valor da base:'))\n",
    "altura = float(input('Digite o valor da altura:'))\n",
    "CONTANT = 2\n",
    "area_triangulo = (base * altura) / CONTANT\n",
    "\n",
    "print(f\"Área de um triângulo é {area_triangulo}\")"
   ]
  },
  {
   "cell_type": "markdown",
   "metadata": {},
   "source": [
    "<h4>Exercícios 05</h4>"
   ]
  },
  {
   "cell_type": "markdown",
   "metadata": {},
   "source": [
    "Criar o primeiro programa."
   ]
  },
  {
   "cell_type": "code",
   "execution_count": 10,
   "metadata": {},
   "outputs": [
    {
     "name": "stdout",
     "output_type": "stream",
     "text": [
      "Valores digitados\n",
      "Valor1: 20.0\n",
      "Valor2: 10.0\n",
      "\n",
      "Oprerações solicitadas:\n",
      "soma: 30.0\n",
      "subtração: 10.0\n",
      "multiplicação: 200.0\n",
      "divisão: 2.0\n"
     ]
    }
   ],
   "source": [
    "valor1 = float(input('Digite o valor 1:'))\n",
    "valor2 = float(input('Digite o valor 2:'))\n",
    "operacao = ['soma','subtração','multiplicação','divisão', 'todos']\n",
    "\n",
    "ecolher_operacao = str(input(f\"escolha a operação: {operacao[0]}, {operacao[1]}, {operacao[2]}, {operacao[3]}\")).lower()\n",
    "\n",
    "soma = valor1 + valor2\n",
    "subtracao = valor1 - valor2\n",
    "multiplicacao = valor1 * valor2\n",
    "divisao = valor1 / valor2\n",
    "\n",
    "if ecolher_operacao == 'soma': \n",
    "    print(soma)\n",
    "elif ecolher_operacao == 'subtração':\n",
    "    print(subtracao)\n",
    "elif ecolher_operacao == 'multiplicação':\n",
    "    print(multiplicacao)\n",
    "elif ecolher_operacao == 'divisão':\n",
    "    print(divisao) \n",
    "elif ecolher_operacao == 'todos':\n",
    "    print(f\"Valores digitados:\\nValor1: {valor1}\\nValor2: {valor2}\\n\")\n",
    "    print(f\"Operações solicitadas:\\nsoma: {soma}\\nsubtração: {subtracao}\\nmultiplicação: {multiplicacao}\\ndivisão: {divisao}\") \n",
    "else: \n",
    "    print('operação não encoontrada')\n"
   ]
  },
  {
   "cell_type": "markdown",
   "metadata": {},
   "source": [
    "<h4>Exercícios 06</h4>"
   ]
  },
  {
   "cell_type": "markdown",
   "metadata": {},
   "source": [
    "Ler uma temperatura em graus Celsius e apresentá-la\n",
    "convertida em graus Fahrenheit. A fórmula de conversão é\n",
    "F = (9 * C + 160) / 5, na qual F é a temperatura em\n",
    "Fahrenheit e C é a temperatura em graus Celsius"
   ]
  },
  {
   "cell_type": "code",
   "execution_count": 12,
   "metadata": {},
   "outputs": [
    {
     "name": "stdout",
     "output_type": "stream",
     "text": [
      "Temperatura em Fahrenheit calculo 1: 89.6\n",
      "Temperatura em Fahrenheit calculo 2: 89.6\n"
     ]
    }
   ],
   "source": [
    "temperatura_celsius = float(input(\"Digitar a temperatura em Graus Celsius: \"))\n",
    "\n",
    "calculo1_convert_c_para_f = (9 * temperatura_celsius + 160) / 5\n",
    "calculo2_convert_c_para_f = (temperatura_celsius * (9/5) ) + 32\n",
    "\n",
    "print(f\"calculo 1 - A Temperatura em Fahrenheit F: {calculo1_convert_c_para_f}\")\n",
    "print(f\"calculo 2 - A Temperatura em Fahrenheit F: {calculo2_convert_c_para_f}\")"
   ]
  },
  {
   "cell_type": "markdown",
   "metadata": {},
   "source": [
    "<h4>Exercícios 07</h4>"
   ]
  },
  {
   "cell_type": "markdown",
   "metadata": {},
   "source": [
    "Ler os valores de comprimento, largura e altura e\n",
    "apresentar o valor do volume de uma caixa retangular.\n",
    "Utilize para o cálculo a fórmula: VOLUME = COMPRIMENTO * LARGURA * ALTURA"
   ]
  },
  {
   "cell_type": "code",
   "execution_count": 15,
   "metadata": {},
   "outputs": [
    {
     "name": "stdout",
     "output_type": "stream",
     "text": [
      "O valor do volume de uma caixa retangular é de: 3375.0 centímetros cúbicos (cm3).\n"
     ]
    }
   ],
   "source": [
    "# variáveis e entrada\n",
    "comprimento, largura, altura = float(input(\"Digite o comprimento: \")), float(input(\"Digite a largura: \")), float(input(\"Digite a altura: \"))\n",
    "# processamento\n",
    "calculo_volume_caixa = comprimento * largura * altura\n",
    "# saída\n",
    "print(f\"O valor do volume de uma caixa retangular é de: {calculo_volume_caixa} centímetros cúbicos (cm3).\")"
   ]
  },
  {
   "cell_type": "markdown",
   "metadata": {},
   "source": [
    "<h4>Exercícios 08</h4>"
   ]
  },
  {
   "cell_type": "markdown",
   "metadata": {},
   "source": [
    "Leia a base e altura de um triângulo, calcule e apresente o valor da área. Utilize a fórmula: ÁREA = (BASE * ALTURA) / 2"
   ]
  },
  {
   "cell_type": "code",
   "execution_count": 18,
   "metadata": {},
   "outputs": [
    {
     "name": "stdout",
     "output_type": "stream",
     "text": [
      "O valor da área do triângulo é de: 1125.0 .\n"
     ]
    }
   ],
   "source": [
    "# variáveis e entrada\n",
    "base, altura = float(input(\"Digite a base: \")), float(input(\"Digite a altura: \"))\n",
    "# processamento\n",
    "calculo_area = (base * altura) / 2\n",
    "# saída\n",
    "print(f\"O valor da área do triângulo é de: {calculo_area} .\")"
   ]
  },
  {
   "cell_type": "markdown",
   "metadata": {},
   "source": [
    "<h4>Exercícios 09</h4>"
   ]
  },
  {
   "cell_type": "markdown",
   "metadata": {},
   "source": [
    "Leia as informações de um consórcio, tal como o número total de\n",
    "prestações, a quantidade total de prestações pagas e o valor de cada\n",
    "prestação. Calcule e mostre na tela o total pago pelo consorciado e o\n",
    "saldo devedor."
   ]
  },
  {
   "cell_type": "code",
   "execution_count": null,
   "metadata": {},
   "outputs": [],
   "source": []
  },
  {
   "cell_type": "markdown",
   "metadata": {},
   "source": [
    "<h4>Exercícios 10</h4>"
   ]
  },
  {
   "cell_type": "markdown",
   "metadata": {},
   "source": [
    "Efetuar o cálculo da quantidade de litros de combustível gasto em uma\n",
    "viagem, utilizando um automóvel que faz 12 Km por litro. Para obter o\n",
    "cálculo, o usuário deve fornecer o tempo gasto na viagem e a\n",
    "velocidade média durante ela. Desta forma, será possível obter a\n",
    "distância percorrida com a fórmula DISTANCIA = TEMPO * VELOCIDADE.\n",
    "Tendo o valor da distância, basta calcular a quantidade de litros de\n",
    "combustível utilizada na viagem, com a fórmula: LITROS_USADOS =\n",
    "DISTANCIA / 12. O programa deve apresentar os valores da velocidade\n",
    "média, tempo gasto na viagem, a distância percorrida e a quantidade\n",
    "de litros utilizada na viagem"
   ]
  },
  {
   "cell_type": "code",
   "execution_count": null,
   "metadata": {},
   "outputs": [],
   "source": []
  }
 ],
 "metadata": {
  "kernelspec": {
   "display_name": "Python 3",
   "language": "python",
   "name": "python3"
  },
  "language_info": {
   "codemirror_mode": {
    "name": "ipython",
    "version": 3
   },
   "file_extension": ".py",
   "mimetype": "text/x-python",
   "name": "python",
   "nbconvert_exporter": "python",
   "pygments_lexer": "ipython3",
   "version": "3.12.2"
  }
 },
 "nbformat": 4,
 "nbformat_minor": 2
}
